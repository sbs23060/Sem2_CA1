{
 "cells": [
  {
   "cell_type": "code",
   "execution_count": 1,
   "id": "1ea79466",
   "metadata": {},
   "outputs": [
    {
     "name": "stderr",
     "output_type": "stream",
     "text": [
      "ERROR:root:Internal Python error in the inspect module.\n",
      "Below is the traceback from this internal error.\n",
      "\n"
     ]
    },
    {
     "name": "stdout",
     "output_type": "stream",
     "text": [
      "Traceback (most recent call last):\n",
      "  File \"<frozen importlib._bootstrap_external>\", line 1362, in _path_importer_cache\n",
      "KeyError: 'C:\\\\Users\\\\paddy\\\\anaconda3\\\\lib\\\\site-packages\\\\numpy\\\\matrixlib'\n",
      "\n",
      "During handling of the above exception, another exception occurred:\n",
      "\n",
      "Traceback (most recent call last):\n",
      "  File \"C:\\Users\\paddy\\anaconda3\\lib\\site-packages\\IPython\\core\\interactiveshell.py\", line 3457, in run_code\n",
      "    exec(code_obj, self.user_global_ns, self.user_ns)\n",
      "  File \"C:\\Users\\paddy\\AppData\\Local\\Temp\\ipykernel_21288\\1353763912.py\", line 1, in <module>\n",
      "    import numpy as np   # Downloading numpy for array format\n",
      "  File \"C:\\Users\\paddy\\anaconda3\\lib\\site-packages\\numpy\\__init__.py\", line 143, in <module>\n",
      "    from . import lib\n",
      "  File \"C:\\Users\\paddy\\anaconda3\\lib\\site-packages\\numpy\\lib\\__init__.py\", line 25, in <module>\n",
      "    from .index_tricks import *\n",
      "  File \"C:\\Users\\paddy\\anaconda3\\lib\\site-packages\\numpy\\lib\\index_tricks.py\", line 12, in <module>\n",
      "    import numpy.matrixlib as matrixlib\n",
      "  File \"C:\\Users\\paddy\\anaconda3\\lib\\site-packages\\numpy\\matrixlib\\__init__.py\", line 4, in <module>\n",
      "    from .defmatrix import *\n",
      "  File \"<frozen importlib._bootstrap>\", line 1007, in _find_and_load\n",
      "  File \"<frozen importlib._bootstrap>\", line 982, in _find_and_load_unlocked\n",
      "  File \"<frozen importlib._bootstrap>\", line 925, in _find_spec\n",
      "  File \"<frozen importlib._bootstrap_external>\", line 1423, in find_spec\n",
      "  File \"<frozen importlib._bootstrap_external>\", line 1392, in _get_spec\n",
      "  File \"<frozen importlib._bootstrap_external>\", line 1364, in _path_importer_cache\n",
      "  File \"<frozen importlib._bootstrap_external>\", line 1340, in _path_hooks\n",
      "  File \"<frozen zipimport>\", line 75, in __init__\n",
      "  File \"<frozen importlib._bootstrap_external>\", line 142, in _path_stat\n",
      "KeyboardInterrupt\n",
      "\n",
      "During handling of the above exception, another exception occurred:\n",
      "\n",
      "Traceback (most recent call last):\n",
      "  File \"C:\\Users\\paddy\\anaconda3\\lib\\site-packages\\IPython\\core\\interactiveshell.py\", line 2077, in showtraceback\n",
      "    stb = value._render_traceback_()\n",
      "AttributeError: 'KeyboardInterrupt' object has no attribute '_render_traceback_'\n",
      "\n",
      "During handling of the above exception, another exception occurred:\n",
      "\n",
      "Traceback (most recent call last):\n",
      "  File \"C:\\Users\\paddy\\anaconda3\\lib\\site-packages\\IPython\\core\\ultratb.py\", line 1101, in get_records\n",
      "    return _fixed_getinnerframes(etb, number_of_lines_of_context, tb_offset)\n",
      "  File \"C:\\Users\\paddy\\anaconda3\\lib\\site-packages\\IPython\\core\\ultratb.py\", line 248, in wrapped\n",
      "    return f(*args, **kwargs)\n",
      "  File \"C:\\Users\\paddy\\anaconda3\\lib\\site-packages\\IPython\\core\\ultratb.py\", line 281, in _fixed_getinnerframes\n",
      "    records = fix_frame_records_filenames(inspect.getinnerframes(etb, context))\n",
      "  File \"C:\\Users\\paddy\\anaconda3\\lib\\inspect.py\", line 1543, in getinnerframes\n",
      "    frameinfo = (tb.tb_frame,) + getframeinfo(tb, context)\n",
      "  File \"C:\\Users\\paddy\\anaconda3\\lib\\inspect.py\", line 1505, in getframeinfo\n",
      "    lines, lnum = findsource(frame)\n",
      "  File \"C:\\Users\\paddy\\anaconda3\\lib\\site-packages\\IPython\\core\\ultratb.py\", line 182, in findsource\n",
      "    lines = linecache.getlines(file, globals_dict)\n",
      "  File \"C:\\Users\\paddy\\anaconda3\\lib\\linecache.py\", line 46, in getlines\n",
      "    return updatecache(filename, module_globals)\n",
      "  File \"C:\\Users\\paddy\\anaconda3\\lib\\linecache.py\", line 136, in updatecache\n",
      "    with tokenize.open(fullname) as fp:\n",
      "  File \"C:\\Users\\paddy\\anaconda3\\lib\\tokenize.py\", line 394, in open\n",
      "    encoding, lines = detect_encoding(buffer.readline)\n",
      "  File \"C:\\Users\\paddy\\anaconda3\\lib\\tokenize.py\", line 363, in detect_encoding\n",
      "    first = read_or_stop()\n",
      "  File \"C:\\Users\\paddy\\anaconda3\\lib\\tokenize.py\", line 321, in read_or_stop\n",
      "    return readline()\n",
      "KeyboardInterrupt\n"
     ]
    },
    {
     "ename": "TypeError",
     "evalue": "object of type 'NoneType' has no len()",
     "output_type": "error",
     "traceback": [
      "\u001b[1;31m---------------------------------------------------------------------------\u001b[0m",
      "\u001b[1;31mKeyError\u001b[0m                                  Traceback (most recent call last)",
      "\u001b[1;32m~\\anaconda3\\lib\\importlib\\_bootstrap_external.py\u001b[0m in \u001b[0;36m_path_importer_cache\u001b[1;34m(cls, path)\u001b[0m\n",
      "\u001b[1;31mKeyError\u001b[0m: 'C:\\\\Users\\\\paddy\\\\anaconda3\\\\lib\\\\site-packages\\\\numpy\\\\matrixlib'",
      "\nDuring handling of the above exception, another exception occurred:\n",
      "\u001b[1;31mKeyboardInterrupt\u001b[0m                         Traceback (most recent call last)",
      "    \u001b[1;31m[... skipping hidden 1 frame]\u001b[0m\n",
      "\u001b[1;32m~\\AppData\\Local\\Temp\\ipykernel_21288\\1353763912.py\u001b[0m in \u001b[0;36m<module>\u001b[1;34m\u001b[0m\n\u001b[1;32m----> 1\u001b[1;33m \u001b[1;32mimport\u001b[0m \u001b[0mnumpy\u001b[0m \u001b[1;32mas\u001b[0m \u001b[0mnp\u001b[0m   \u001b[1;31m# Downloading numpy for array format\u001b[0m\u001b[1;33m\u001b[0m\u001b[1;33m\u001b[0m\u001b[0m\n\u001b[0m\u001b[0;32m      2\u001b[0m \u001b[1;32mimport\u001b[0m \u001b[0mpandas\u001b[0m \u001b[1;32mas\u001b[0m \u001b[0mpd\u001b[0m  \u001b[1;31m# Downloading pandas for data import\u001b[0m\u001b[1;33m\u001b[0m\u001b[1;33m\u001b[0m\u001b[0m\n\u001b[0;32m      3\u001b[0m \u001b[1;32mimport\u001b[0m \u001b[0mmatplotlib\u001b[0m\u001b[1;33m.\u001b[0m\u001b[0mpyplot\u001b[0m \u001b[1;32mas\u001b[0m \u001b[0mplt\u001b[0m \u001b[1;31m# Matplotlib.pyplot for visualization\u001b[0m\u001b[1;33m\u001b[0m\u001b[1;33m\u001b[0m\u001b[0m\n",
      "\u001b[1;32m~\\anaconda3\\lib\\site-packages\\numpy\\__init__.py\u001b[0m in \u001b[0;36m<module>\u001b[1;34m\u001b[0m\n\u001b[0;32m    142\u001b[0m     \u001b[1;32mfrom\u001b[0m \u001b[1;33m.\u001b[0m \u001b[1;32mimport\u001b[0m \u001b[0mcompat\u001b[0m\u001b[1;33m\u001b[0m\u001b[1;33m\u001b[0m\u001b[0m\n\u001b[1;32m--> 143\u001b[1;33m     \u001b[1;32mfrom\u001b[0m \u001b[1;33m.\u001b[0m \u001b[1;32mimport\u001b[0m \u001b[0mlib\u001b[0m\u001b[1;33m\u001b[0m\u001b[1;33m\u001b[0m\u001b[0m\n\u001b[0m\u001b[0;32m    144\u001b[0m     \u001b[1;31m# NOTE: to be revisited following future namespace cleanup.\u001b[0m\u001b[1;33m\u001b[0m\u001b[1;33m\u001b[0m\u001b[0m\n",
      "\u001b[1;32m~\\anaconda3\\lib\\site-packages\\numpy\\lib\\__init__.py\u001b[0m in \u001b[0;36m<module>\u001b[1;34m\u001b[0m\n\u001b[0;32m     24\u001b[0m \u001b[1;32mfrom\u001b[0m \u001b[1;33m.\u001b[0m\u001b[0mtype_check\u001b[0m \u001b[1;32mimport\u001b[0m \u001b[1;33m*\u001b[0m\u001b[1;33m\u001b[0m\u001b[1;33m\u001b[0m\u001b[0m\n\u001b[1;32m---> 25\u001b[1;33m \u001b[1;32mfrom\u001b[0m \u001b[1;33m.\u001b[0m\u001b[0mindex_tricks\u001b[0m \u001b[1;32mimport\u001b[0m \u001b[1;33m*\u001b[0m\u001b[1;33m\u001b[0m\u001b[1;33m\u001b[0m\u001b[0m\n\u001b[0m\u001b[0;32m     26\u001b[0m \u001b[1;32mfrom\u001b[0m \u001b[1;33m.\u001b[0m\u001b[0mfunction_base\u001b[0m \u001b[1;32mimport\u001b[0m \u001b[1;33m*\u001b[0m\u001b[1;33m\u001b[0m\u001b[1;33m\u001b[0m\u001b[0m\n",
      "\u001b[1;32m~\\anaconda3\\lib\\site-packages\\numpy\\lib\\index_tricks.py\u001b[0m in \u001b[0;36m<module>\u001b[1;34m\u001b[0m\n\u001b[0;32m     11\u001b[0m \u001b[1;33m\u001b[0m\u001b[0m\n\u001b[1;32m---> 12\u001b[1;33m \u001b[1;32mimport\u001b[0m \u001b[0mnumpy\u001b[0m\u001b[1;33m.\u001b[0m\u001b[0mmatrixlib\u001b[0m \u001b[1;32mas\u001b[0m \u001b[0mmatrixlib\u001b[0m\u001b[1;33m\u001b[0m\u001b[1;33m\u001b[0m\u001b[0m\n\u001b[0m\u001b[0;32m     13\u001b[0m \u001b[1;32mfrom\u001b[0m \u001b[1;33m.\u001b[0m\u001b[0mfunction_base\u001b[0m \u001b[1;32mimport\u001b[0m \u001b[0mdiff\u001b[0m\u001b[1;33m\u001b[0m\u001b[1;33m\u001b[0m\u001b[0m\n",
      "\u001b[1;32m~\\anaconda3\\lib\\site-packages\\numpy\\matrixlib\\__init__.py\u001b[0m in \u001b[0;36m<module>\u001b[1;34m\u001b[0m\n\u001b[0;32m      3\u001b[0m \"\"\"\n\u001b[1;32m----> 4\u001b[1;33m \u001b[1;32mfrom\u001b[0m \u001b[1;33m.\u001b[0m\u001b[0mdefmatrix\u001b[0m \u001b[1;32mimport\u001b[0m \u001b[1;33m*\u001b[0m\u001b[1;33m\u001b[0m\u001b[1;33m\u001b[0m\u001b[0m\n\u001b[0m\u001b[0;32m      5\u001b[0m \u001b[1;33m\u001b[0m\u001b[0m\n",
      "\u001b[1;32m~\\anaconda3\\lib\\importlib\\_bootstrap.py\u001b[0m in \u001b[0;36m_find_and_load\u001b[1;34m(name, import_)\u001b[0m\n",
      "\u001b[1;32m~\\anaconda3\\lib\\importlib\\_bootstrap.py\u001b[0m in \u001b[0;36m_find_and_load_unlocked\u001b[1;34m(name, import_)\u001b[0m\n",
      "\u001b[1;32m~\\anaconda3\\lib\\importlib\\_bootstrap.py\u001b[0m in \u001b[0;36m_find_spec\u001b[1;34m(name, path, target)\u001b[0m\n",
      "\u001b[1;32m~\\anaconda3\\lib\\importlib\\_bootstrap_external.py\u001b[0m in \u001b[0;36mfind_spec\u001b[1;34m(cls, fullname, path, target)\u001b[0m\n",
      "\u001b[1;32m~\\anaconda3\\lib\\importlib\\_bootstrap_external.py\u001b[0m in \u001b[0;36m_get_spec\u001b[1;34m(cls, fullname, path, target)\u001b[0m\n",
      "\u001b[1;32m~\\anaconda3\\lib\\importlib\\_bootstrap_external.py\u001b[0m in \u001b[0;36m_path_importer_cache\u001b[1;34m(cls, path)\u001b[0m\n",
      "\u001b[1;32m~\\anaconda3\\lib\\importlib\\_bootstrap_external.py\u001b[0m in \u001b[0;36m_path_hooks\u001b[1;34m(cls, path)\u001b[0m\n",
      "\u001b[1;32m<frozen zipimport>\u001b[0m in \u001b[0;36m__init__\u001b[1;34m(self, path)\u001b[0m\n",
      "\u001b[1;32m~\\anaconda3\\lib\\importlib\\_bootstrap_external.py\u001b[0m in \u001b[0;36m_path_stat\u001b[1;34m(path)\u001b[0m\n",
      "\u001b[1;31mKeyboardInterrupt\u001b[0m: ",
      "\nDuring handling of the above exception, another exception occurred:\n",
      "\u001b[1;31mAttributeError\u001b[0m                            Traceback (most recent call last)",
      "\u001b[1;32m~\\anaconda3\\lib\\site-packages\\IPython\\core\\interactiveshell.py\u001b[0m in \u001b[0;36mshowtraceback\u001b[1;34m(self, exc_tuple, filename, tb_offset, exception_only, running_compiled_code)\u001b[0m\n\u001b[0;32m   2076\u001b[0m                         \u001b[1;31m# in the engines. This should return a list of strings.\u001b[0m\u001b[1;33m\u001b[0m\u001b[1;33m\u001b[0m\u001b[0m\n\u001b[1;32m-> 2077\u001b[1;33m                         \u001b[0mstb\u001b[0m \u001b[1;33m=\u001b[0m \u001b[0mvalue\u001b[0m\u001b[1;33m.\u001b[0m\u001b[0m_render_traceback_\u001b[0m\u001b[1;33m(\u001b[0m\u001b[1;33m)\u001b[0m\u001b[1;33m\u001b[0m\u001b[1;33m\u001b[0m\u001b[0m\n\u001b[0m\u001b[0;32m   2078\u001b[0m                     \u001b[1;32mexcept\u001b[0m \u001b[0mException\u001b[0m\u001b[1;33m:\u001b[0m\u001b[1;33m\u001b[0m\u001b[1;33m\u001b[0m\u001b[0m\n",
      "\u001b[1;31mAttributeError\u001b[0m: 'KeyboardInterrupt' object has no attribute '_render_traceback_'",
      "\nDuring handling of the above exception, another exception occurred:\n",
      "\u001b[1;31mTypeError\u001b[0m                                 Traceback (most recent call last)",
      "    \u001b[1;31m[... skipping hidden 1 frame]\u001b[0m\n",
      "\u001b[1;32m~\\anaconda3\\lib\\site-packages\\IPython\\core\\interactiveshell.py\u001b[0m in \u001b[0;36mshowtraceback\u001b[1;34m(self, exc_tuple, filename, tb_offset, exception_only, running_compiled_code)\u001b[0m\n\u001b[0;32m   2077\u001b[0m                         \u001b[0mstb\u001b[0m \u001b[1;33m=\u001b[0m \u001b[0mvalue\u001b[0m\u001b[1;33m.\u001b[0m\u001b[0m_render_traceback_\u001b[0m\u001b[1;33m(\u001b[0m\u001b[1;33m)\u001b[0m\u001b[1;33m\u001b[0m\u001b[1;33m\u001b[0m\u001b[0m\n\u001b[0;32m   2078\u001b[0m                     \u001b[1;32mexcept\u001b[0m \u001b[0mException\u001b[0m\u001b[1;33m:\u001b[0m\u001b[1;33m\u001b[0m\u001b[1;33m\u001b[0m\u001b[0m\n\u001b[1;32m-> 2079\u001b[1;33m                         stb = self.InteractiveTB.structured_traceback(etype,\n\u001b[0m\u001b[0;32m   2080\u001b[0m                                             value, tb, tb_offset=tb_offset)\n\u001b[0;32m   2081\u001b[0m \u001b[1;33m\u001b[0m\u001b[0m\n",
      "\u001b[1;32m~\\anaconda3\\lib\\site-packages\\IPython\\core\\ultratb.py\u001b[0m in \u001b[0;36mstructured_traceback\u001b[1;34m(self, etype, value, tb, tb_offset, number_of_lines_of_context)\u001b[0m\n\u001b[0;32m   1365\u001b[0m         \u001b[1;32melse\u001b[0m\u001b[1;33m:\u001b[0m\u001b[1;33m\u001b[0m\u001b[1;33m\u001b[0m\u001b[0m\n\u001b[0;32m   1366\u001b[0m             \u001b[0mself\u001b[0m\u001b[1;33m.\u001b[0m\u001b[0mtb\u001b[0m \u001b[1;33m=\u001b[0m \u001b[0mtb\u001b[0m\u001b[1;33m\u001b[0m\u001b[1;33m\u001b[0m\u001b[0m\n\u001b[1;32m-> 1367\u001b[1;33m         return FormattedTB.structured_traceback(\n\u001b[0m\u001b[0;32m   1368\u001b[0m             self, etype, value, tb, tb_offset, number_of_lines_of_context)\n\u001b[0;32m   1369\u001b[0m \u001b[1;33m\u001b[0m\u001b[0m\n",
      "\u001b[1;32m~\\anaconda3\\lib\\site-packages\\IPython\\core\\ultratb.py\u001b[0m in \u001b[0;36mstructured_traceback\u001b[1;34m(self, etype, value, tb, tb_offset, number_of_lines_of_context)\u001b[0m\n\u001b[0;32m   1265\u001b[0m         \u001b[1;32mif\u001b[0m \u001b[0mmode\u001b[0m \u001b[1;32min\u001b[0m \u001b[0mself\u001b[0m\u001b[1;33m.\u001b[0m\u001b[0mverbose_modes\u001b[0m\u001b[1;33m:\u001b[0m\u001b[1;33m\u001b[0m\u001b[1;33m\u001b[0m\u001b[0m\n\u001b[0;32m   1266\u001b[0m             \u001b[1;31m# Verbose modes need a full traceback\u001b[0m\u001b[1;33m\u001b[0m\u001b[1;33m\u001b[0m\u001b[0m\n\u001b[1;32m-> 1267\u001b[1;33m             return VerboseTB.structured_traceback(\n\u001b[0m\u001b[0;32m   1268\u001b[0m                 \u001b[0mself\u001b[0m\u001b[1;33m,\u001b[0m \u001b[0metype\u001b[0m\u001b[1;33m,\u001b[0m \u001b[0mvalue\u001b[0m\u001b[1;33m,\u001b[0m \u001b[0mtb\u001b[0m\u001b[1;33m,\u001b[0m \u001b[0mtb_offset\u001b[0m\u001b[1;33m,\u001b[0m \u001b[0mnumber_of_lines_of_context\u001b[0m\u001b[1;33m\u001b[0m\u001b[1;33m\u001b[0m\u001b[0m\n\u001b[0;32m   1269\u001b[0m             )\n",
      "\u001b[1;32m~\\anaconda3\\lib\\site-packages\\IPython\\core\\ultratb.py\u001b[0m in \u001b[0;36mstructured_traceback\u001b[1;34m(self, etype, evalue, etb, tb_offset, number_of_lines_of_context)\u001b[0m\n\u001b[0;32m   1122\u001b[0m         \u001b[1;34m\"\"\"Return a nice text document describing the traceback.\"\"\"\u001b[0m\u001b[1;33m\u001b[0m\u001b[1;33m\u001b[0m\u001b[0m\n\u001b[0;32m   1123\u001b[0m \u001b[1;33m\u001b[0m\u001b[0m\n\u001b[1;32m-> 1124\u001b[1;33m         formatted_exception = self.format_exception_as_a_whole(etype, evalue, etb, number_of_lines_of_context,\n\u001b[0m\u001b[0;32m   1125\u001b[0m                                                                tb_offset)\n\u001b[0;32m   1126\u001b[0m \u001b[1;33m\u001b[0m\u001b[0m\n",
      "\u001b[1;32m~\\anaconda3\\lib\\site-packages\\IPython\\core\\ultratb.py\u001b[0m in \u001b[0;36mformat_exception_as_a_whole\u001b[1;34m(self, etype, evalue, etb, number_of_lines_of_context, tb_offset)\u001b[0m\n\u001b[0;32m   1080\u001b[0m \u001b[1;33m\u001b[0m\u001b[0m\n\u001b[0;32m   1081\u001b[0m \u001b[1;33m\u001b[0m\u001b[0m\n\u001b[1;32m-> 1082\u001b[1;33m         \u001b[0mlast_unique\u001b[0m\u001b[1;33m,\u001b[0m \u001b[0mrecursion_repeat\u001b[0m \u001b[1;33m=\u001b[0m \u001b[0mfind_recursion\u001b[0m\u001b[1;33m(\u001b[0m\u001b[0morig_etype\u001b[0m\u001b[1;33m,\u001b[0m \u001b[0mevalue\u001b[0m\u001b[1;33m,\u001b[0m \u001b[0mrecords\u001b[0m\u001b[1;33m)\u001b[0m\u001b[1;33m\u001b[0m\u001b[1;33m\u001b[0m\u001b[0m\n\u001b[0m\u001b[0;32m   1083\u001b[0m \u001b[1;33m\u001b[0m\u001b[0m\n\u001b[0;32m   1084\u001b[0m         \u001b[0mframes\u001b[0m \u001b[1;33m=\u001b[0m \u001b[0mself\u001b[0m\u001b[1;33m.\u001b[0m\u001b[0mformat_records\u001b[0m\u001b[1;33m(\u001b[0m\u001b[0mrecords\u001b[0m\u001b[1;33m,\u001b[0m \u001b[0mlast_unique\u001b[0m\u001b[1;33m,\u001b[0m \u001b[0mrecursion_repeat\u001b[0m\u001b[1;33m)\u001b[0m\u001b[1;33m\u001b[0m\u001b[1;33m\u001b[0m\u001b[0m\n",
      "\u001b[1;32m~\\anaconda3\\lib\\site-packages\\IPython\\core\\ultratb.py\u001b[0m in \u001b[0;36mfind_recursion\u001b[1;34m(etype, value, records)\u001b[0m\n\u001b[0;32m    380\u001b[0m     \u001b[1;31m# first frame (from in to out) that looks different.\u001b[0m\u001b[1;33m\u001b[0m\u001b[1;33m\u001b[0m\u001b[0m\n\u001b[0;32m    381\u001b[0m     \u001b[1;32mif\u001b[0m \u001b[1;32mnot\u001b[0m \u001b[0mis_recursion_error\u001b[0m\u001b[1;33m(\u001b[0m\u001b[0metype\u001b[0m\u001b[1;33m,\u001b[0m \u001b[0mvalue\u001b[0m\u001b[1;33m,\u001b[0m \u001b[0mrecords\u001b[0m\u001b[1;33m)\u001b[0m\u001b[1;33m:\u001b[0m\u001b[1;33m\u001b[0m\u001b[1;33m\u001b[0m\u001b[0m\n\u001b[1;32m--> 382\u001b[1;33m         \u001b[1;32mreturn\u001b[0m \u001b[0mlen\u001b[0m\u001b[1;33m(\u001b[0m\u001b[0mrecords\u001b[0m\u001b[1;33m)\u001b[0m\u001b[1;33m,\u001b[0m \u001b[1;36m0\u001b[0m\u001b[1;33m\u001b[0m\u001b[1;33m\u001b[0m\u001b[0m\n\u001b[0m\u001b[0;32m    383\u001b[0m \u001b[1;33m\u001b[0m\u001b[0m\n\u001b[0;32m    384\u001b[0m     \u001b[1;31m# Select filename, lineno, func_name to track frames with\u001b[0m\u001b[1;33m\u001b[0m\u001b[1;33m\u001b[0m\u001b[0m\n",
      "\u001b[1;31mTypeError\u001b[0m: object of type 'NoneType' has no len()"
     ]
    }
   ],
   "source": [
    "import numpy as np   # Downloading numpy for array format\n",
    "import pandas as pd  # Downloading pandas for data import\n",
    "import matplotlib.pyplot as plt # Matplotlib.pyplot for visualization\n",
    "import seaborn as sns  # Visualisation\n",
    "%matplotlib inline "
   ]
  },
  {
   "cell_type": "code",
   "execution_count": null,
   "id": "e9092fa4",
   "metadata": {},
   "outputs": [],
   "source": [
    "oil_prices=pd.read_csv('crude_oil_import_prices.csv') # importing the dataset\n",
    "\n",
    "oil_prices.head(10)"
   ]
  },
  {
   "cell_type": "code",
   "execution_count": null,
   "id": "4c94b1b4",
   "metadata": {},
   "outputs": [],
   "source": [
    "oil_prices.shape # Getting shape  of data"
   ]
  },
  {
   "cell_type": "code",
   "execution_count": null,
   "id": "c209a612",
   "metadata": {},
   "outputs": [],
   "source": [
    "oil_prices.info()   # checking nulls and data types"
   ]
  },
  {
   "cell_type": "code",
   "execution_count": null,
   "id": "55b03a03",
   "metadata": {},
   "outputs": [],
   "source": [
    "oil_prices.dtypes"
   ]
  },
  {
   "cell_type": "code",
   "execution_count": null,
   "id": "9f047bef",
   "metadata": {},
   "outputs": [],
   "source": [
    "oil_prices=oil_prices.drop(['INDICATOR', 'SUBJECT', 'MEASURE', 'Flag Codes'], axis=1)\n",
    "\n",
    "oil_prices.head(5)"
   ]
  },
  {
   "cell_type": "code",
   "execution_count": null,
   "id": "91f05b96",
   "metadata": {},
   "outputs": [],
   "source": [
    "oil_prices.dtypes"
   ]
  },
  {
   "cell_type": "code",
   "execution_count": null,
   "id": "08354472",
   "metadata": {},
   "outputs": [],
   "source": [
    "oil_prices.shape"
   ]
  },
  {
   "cell_type": "code",
   "execution_count": null,
   "id": "268a796f",
   "metadata": {},
   "outputs": [],
   "source": [
    "oil_prices.describe()     # Basic statistical info - seems to skew to the left"
   ]
  },
  {
   "cell_type": "code",
   "execution_count": null,
   "id": "d8badf29",
   "metadata": {},
   "outputs": [],
   "source": [
    "oil_prices=oil_prices.sort_values(by='TIME') # sort the data by year\n",
    "\n",
    "oil_prices.head(10)\n",
    "oil_prices.tail(5)"
   ]
  },
  {
   "cell_type": "code",
   "execution_count": null,
   "id": "1176fdc4",
   "metadata": {},
   "outputs": [],
   "source": [
    "oil_prices['TIME']=oil_prices['TIME'].str.slice(0, 4) # Removed extra characters from time column\n",
    "\n",
    "oil_prices.tail(5)\n"
   ]
  },
  {
   "cell_type": "code",
   "execution_count": null,
   "id": "c12bc16a",
   "metadata": {},
   "outputs": [],
   "source": [
    "oil_prices.count()  # checking balance of observations between columns"
   ]
  },
  {
   "cell_type": "code",
   "execution_count": null,
   "id": "b49d5368",
   "metadata": {},
   "outputs": [],
   "source": [
    "oil_prices.shape # Checkpoint on shape"
   ]
  },
  {
   "cell_type": "code",
   "execution_count": null,
   "id": "526ea04b",
   "metadata": {},
   "outputs": [],
   "source": [
    "#duplicate_rows=oil_prices[oil_prices.duplicated()]\n",
    "\n",
    "#print(\"number of duplicate rows:\", duplicate_rows.shape)"
   ]
  },
  {
   "cell_type": "code",
   "execution_count": null,
   "id": "4db7c7c3",
   "metadata": {},
   "outputs": [],
   "source": [
    "print(oil_prices.isnull().sum())  # Looking for null values"
   ]
  },
  {
   "cell_type": "code",
   "execution_count": null,
   "id": "8111d53c",
   "metadata": {},
   "outputs": [],
   "source": [
    "value_column_row_null= oil_prices[oil_prices['Value'].isnull()] # Seeing if any pattern in the null values\n",
    "\n",
    "value_column_row_null.head(100)"
   ]
  },
  {
   "cell_type": "code",
   "execution_count": null,
   "id": "b59307b8",
   "metadata": {},
   "outputs": [],
   "source": [
    "oil_prices=oil_prices.dropna().reset_index(drop=True)\n",
    "\n",
    "oil_prices.count()"
   ]
  },
  {
   "cell_type": "code",
   "execution_count": null,
   "id": "be522c72",
   "metadata": {},
   "outputs": [],
   "source": [
    "oil_prices.shape"
   ]
  },
  {
   "cell_type": "code",
   "execution_count": null,
   "id": "3fe162d9",
   "metadata": {},
   "outputs": [],
   "source": [
    "oil_prices.head(15)"
   ]
  },
  {
   "cell_type": "code",
   "execution_count": null,
   "id": "110f5a76",
   "metadata": {},
   "outputs": [],
   "source": [
    "oil_prices= oil_prices[oil_prices['FREQUENCY']=='M'].reset_index(drop=True) \n",
    "\n",
    "oil_prices.head(20)      # removed all data that wasn't monthly for consistent interval frequency"
   ]
  },
  {
   "cell_type": "code",
   "execution_count": null,
   "id": "6b15e837",
   "metadata": {},
   "outputs": [],
   "source": [
    "sns.boxplot(x=oil_prices['Value'])      # view of the data which is skewed to the left"
   ]
  },
  {
   "cell_type": "code",
   "execution_count": null,
   "id": "b0734b0b",
   "metadata": {},
   "outputs": [],
   "source": [
    "oil_prices=oil_prices.sort_values(by=['TIME', 'LOCATION']).reset_index(drop=True)"
   ]
  },
  {
   "cell_type": "code",
   "execution_count": null,
   "id": "bfebd941",
   "metadata": {},
   "outputs": [],
   "source": [
    "oil_prices.tail(50)   # Data now sorted by year and alphabetically by countries within each year for trend"
   ]
  },
  {
   "cell_type": "code",
   "execution_count": null,
   "id": "e19a86d8",
   "metadata": {},
   "outputs": [],
   "source": [
    "country_counts=oil_prices.groupby(['LOCATION', 'TIME']).size().reset_index(name='Count')"
   ]
  },
  {
   "cell_type": "code",
   "execution_count": null,
   "id": "bc848717",
   "metadata": {},
   "outputs": [],
   "source": [
    "country_counts.head(50)  # counting how many months are recorded per country in each year for data consistency"
   ]
  },
  {
   "cell_type": "code",
   "execution_count": null,
   "id": "304c1777",
   "metadata": {},
   "outputs": [],
   "source": [
    "oil_prices=oil_prices.merge(country_counts, on=['LOCATION', 'TIME'], how='left') # merging country_counts to oil_prices"
   ]
  },
  {
   "cell_type": "code",
   "execution_count": null,
   "id": "edc26980",
   "metadata": {},
   "outputs": [],
   "source": [
    "oil_prices=pd.DataFrame(oil_prices)  #Ensuring is a dataframe format"
   ]
  },
  {
   "cell_type": "code",
   "execution_count": null,
   "id": "dfdeaebd",
   "metadata": {},
   "outputs": [],
   "source": [
    "oil_prices.head(5) # Checking the merge was successful"
   ]
  },
  {
   "cell_type": "code",
   "execution_count": null,
   "id": "ec00eabf",
   "metadata": {},
   "outputs": [],
   "source": [
    "oil_prices.tail(5)"
   ]
  },
  {
   "cell_type": "code",
   "execution_count": null,
   "id": "5c84b63b",
   "metadata": {},
   "outputs": [],
   "source": [
    "oil_prices=oil_prices[oil_prices['Count']==12] # Filtering for only TIME/LOCATION combinations with full 12 months worth of data"
   ]
  },
  {
   "cell_type": "code",
   "execution_count": null,
   "id": "01614c64",
   "metadata": {},
   "outputs": [],
   "source": [
    "oil_prices.head(15)"
   ]
  },
  {
   "cell_type": "code",
   "execution_count": null,
   "id": "59f385a7",
   "metadata": {},
   "outputs": [],
   "source": [
    "oil_prices.tail(20)"
   ]
  },
  {
   "cell_type": "code",
   "execution_count": null,
   "id": "a417fd8d",
   "metadata": {},
   "outputs": [],
   "source": [
    "oil_prices=oil_prices.drop(['FREQUENCY', 'Count'], axis=1) # Dropping unnecessary columns\n",
    "\n",
    "oil_prices.head(5)"
   ]
  },
  {
   "cell_type": "code",
   "execution_count": null,
   "id": "900e5983",
   "metadata": {},
   "outputs": [],
   "source": [
    "oil_prices.tail(5)"
   ]
  },
  {
   "cell_type": "code",
   "execution_count": null,
   "id": "d315b08d",
   "metadata": {},
   "outputs": [],
   "source": [
    "oil_prices.shape"
   ]
  },
  {
   "cell_type": "code",
   "execution_count": null,
   "id": "d1e9f12c",
   "metadata": {},
   "outputs": [],
   "source": [
    "full_oil_prices=oil_prices  # Saving the 'full' dataset as 'full_oil_prices' which will include the 2015 year\n",
    "\n",
    "full_oil_prices.head(5)"
   ]
  },
  {
   "cell_type": "code",
   "execution_count": null,
   "id": "50c0d595",
   "metadata": {},
   "outputs": [],
   "source": [
    "mask_2015=oil_prices['TIME'].str.contains('2015')  # Isolating 2015 to be used as test data later\n",
    "\n",
    "test_data=oil_prices[mask_2015]\n",
    "\n",
    "type(test_data)\n",
    "\n"
   ]
  },
  {
   "cell_type": "code",
   "execution_count": null,
   "id": "d11e6879",
   "metadata": {},
   "outputs": [],
   "source": [
    "print(test_data) # Counting number of rows so know how many to remove from training set"
   ]
  },
  {
   "cell_type": "code",
   "execution_count": null,
   "id": "b18bb909",
   "metadata": {},
   "outputs": [],
   "source": [
    "oil_prices=oil_prices.iloc[:-168]   # Removing the last 2015 data so it can become a test set\n",
    "\n",
    "oil_prices.tail(5)"
   ]
  },
  {
   "cell_type": "code",
   "execution_count": null,
   "id": "1cbecd41",
   "metadata": {},
   "outputs": [],
   "source": [
    "non_scaled_oil_prices=oil_prices.iloc[:, 2].values   # Create numpy array from 'Value' column for keras module\n",
    "\n",
    "type(non_scaled_oil_prices) # Checking it's the correct format"
   ]
  },
  {
   "cell_type": "markdown",
   "id": "c01161fd",
   "metadata": {},
   "source": [
    "## Min-Max Scaling"
   ]
  },
  {
   "cell_type": "code",
   "execution_count": null,
   "id": "4311e007",
   "metadata": {},
   "outputs": [],
   "source": [
    "from sklearn.preprocessing import MinMaxScaler # Importing min-max scaler class for min-max scaling"
   ]
  },
  {
   "cell_type": "code",
   "execution_count": null,
   "id": "b0b06a7f",
   "metadata": {},
   "outputs": [],
   "source": [
    "scaler=MinMaxScaler() # Creating instance of the min-max scaler class"
   ]
  },
  {
   "cell_type": "code",
   "execution_count": null,
   "id": "7a5674fd",
   "metadata": {},
   "outputs": [],
   "source": [
    "min_max_oil_prices=scaler.fit_transform(non_scaled_oil_prices.reshape(-1, 1)) # Performing min-max scaling on numpy array"
   ]
  },
  {
   "cell_type": "code",
   "execution_count": null,
   "id": "7773b6dc",
   "metadata": {},
   "outputs": [],
   "source": [
    "min_max_oil_prices.shape # len(min_max_oil_prices)"
   ]
  },
  {
   "cell_type": "code",
   "execution_count": null,
   "id": "0e97c0bc",
   "metadata": {},
   "outputs": [],
   "source": [
    "x_training_data=[]        # Initialising two data structures for the timesteps\n",
    "y_training_data=[] "
   ]
  },
  {
   "cell_type": "code",
   "execution_count": null,
   "id": "34a4f366",
   "metadata": {},
   "outputs": [],
   "source": [
    "for i in range(50, len(min_max_oil_prices)):               # Populating the data structures for the timesteps\n",
    "               x_training_data.append(min_max_oil_prices[i-50:i, 0])\n",
    "               y_training_data.append(min_max_oil_prices[i, 0])"
   ]
  },
  {
   "cell_type": "code",
   "execution_count": null,
   "id": "2fbb4a88",
   "metadata": {},
   "outputs": [],
   "source": [
    "x_training_data=np.array(x_training_data)              # Converting to numpy arrays\n",
    "y_training_data=np.array(y_training_data)\n",
    "\n",
    "print(x_training_data.shape)"
   ]
  },
  {
   "cell_type": "code",
   "execution_count": null,
   "id": "1fa6fdc6",
   "metadata": {},
   "outputs": [],
   "source": [
    "print(y_training_data.shape)"
   ]
  },
  {
   "cell_type": "code",
   "execution_count": null,
   "id": "d189f8a7",
   "metadata": {},
   "outputs": [],
   "source": [
    "print(len(min_max_oil_prices)-50)  # Confirm arrays have correct shape, len(min_max_oil_prices) - 50 = 5602"
   ]
  },
  {
   "cell_type": "code",
   "execution_count": null,
   "id": "d80f5dcb",
   "metadata": {},
   "outputs": [],
   "source": [
    "x_training_data=np.reshape(x_training_data, (x_training_data.shape[0], x_training_data.shape[1], 1)) \n",
    "\n",
    "print(x_training_data.shape)    # Turning numpy array 3 dimensional for tensorflow"
   ]
  },
  {
   "cell_type": "code",
   "execution_count": null,
   "id": "713c9341",
   "metadata": {},
   "outputs": [],
   "source": [
    "from tensorflow.keras.models import Sequential   # Classes for neural network building\n",
    "from tensorflow.keras.layers import Dense\n",
    "from tensorflow.keras.layers import LSTM\n",
    "from tensorflow.keras.layers import Dropout"
   ]
  },
  {
   "cell_type": "code",
   "execution_count": null,
   "id": "16b4682b",
   "metadata": {},
   "outputs": [],
   "source": [
    "rnn=Sequential()  # Initialising RNN"
   ]
  },
  {
   "cell_type": "code",
   "execution_count": null,
   "id": "6429faee",
   "metadata": {},
   "outputs": [],
   "source": [
    "rnn.add(LSTM(units=5, return_sequences=True, input_shape=(x_training_data.shape[1], 1))) # First LSTM layer with flexible timestep approach"
   ]
  },
  {
   "cell_type": "code",
   "execution_count": null,
   "id": "292a46da",
   "metadata": {},
   "outputs": [],
   "source": [
    "rnn.add(Dropout(0.2)) # Including 20% dropout rate as is convention"
   ]
  },
  {
   "cell_type": "code",
   "execution_count": null,
   "id": "89355444",
   "metadata": {},
   "outputs": [],
   "source": [
    "for i in [True, False]:            \n",
    "    rnn.add(LSTM(units=5, return_sequences=i))\n",
    "    rnn.add(Dropout(0.2))                            # Adding two more LSTM layers"
   ]
  },
  {
   "cell_type": "code",
   "execution_count": null,
   "id": "a498a0ac",
   "metadata": {},
   "outputs": [],
   "source": [
    "rnn.add(Dense(units=1))   # Output layer"
   ]
  },
  {
   "cell_type": "code",
   "execution_count": null,
   "id": "d8e28510",
   "metadata": {},
   "outputs": [],
   "source": [
    "rnn.compile(optimizer='adam', loss='mean_squared_error') # optimizer and loss function"
   ]
  },
  {
   "cell_type": "code",
   "execution_count": null,
   "id": "28dae2dc",
   "metadata": {},
   "outputs": [],
   "source": [
    "rnn.fit(x_training_data, y_training_data, epochs=10, batch_size=10)  # Fitting model to training data"
   ]
  },
  {
   "cell_type": "code",
   "execution_count": null,
   "id": "323f97fa",
   "metadata": {},
   "outputs": [],
   "source": [
    "plt.plot(test_data_min_max)           # Plotting test data"
   ]
  },
  {
   "cell_type": "code",
   "execution_count": null,
   "id": "36fabc25",
   "metadata": {},
   "outputs": [],
   "source": [
    "all_unscaled_min_max_data=pd.concat((oil_prices['Value'], test_data['Value']), axis=0) # Concatenate training and test data"
   ]
  },
  {
   "cell_type": "code",
   "execution_count": null,
   "id": "ba1035d5",
   "metadata": {},
   "outputs": [],
   "source": [
    "x_test_data=all_unscaled_min_max_data[len(all_unscaled_min_max_data)-len(test_data)-50:].values"
   ]
  },
  {
   "cell_type": "code",
   "execution_count": null,
   "id": "183ec606",
   "metadata": {},
   "outputs": [],
   "source": [
    "len(x_test_data)      # 168 test data + 50 time steps = 218 shows the array is the right length"
   ]
  },
  {
   "cell_type": "code",
   "execution_count": null,
   "id": "24482b03",
   "metadata": {},
   "outputs": [],
   "source": [
    "x_test_data=np.reshape(x_test_data, (-1, 1)) # Reshaping to make suitable for predict method"
   ]
  },
  {
   "cell_type": "code",
   "execution_count": null,
   "id": "c3f49ed9",
   "metadata": {},
   "outputs": [],
   "source": [
    "x_test_data_scaled=scaler.transform(x_test_data)  # Scaling x_test_data "
   ]
  },
  {
   "cell_type": "code",
   "execution_count": null,
   "id": "99f5c0f1",
   "metadata": {},
   "outputs": [],
   "source": [
    "final_x_test_data=[]\n",
    "for i in range(50, len(x_test_data_scaled)):\n",
    "    final_x_test_data.append(x_test_data_scaled[i-50:i, 0])\n",
    "final_x_test_data=np.array(final_x_test_data)"
   ]
  },
  {
   "cell_type": "code",
   "execution_count": null,
   "id": "06983bbe",
   "metadata": {},
   "outputs": [],
   "source": [
    "final_x_test_data=np.reshape(final_x_test_data, (final_x_test_data.shape[0], final_x_test_data.shape[1], 1)) # Making 3D for tensorflow"
   ]
  },
  {
   "cell_type": "code",
   "execution_count": null,
   "id": "1aa4cc3c",
   "metadata": {},
   "outputs": [],
   "source": [
    "min_max_predictions=rnn.predict(final_x_test_data)   # Making the prediction with min_max approach"
   ]
  },
  {
   "cell_type": "code",
   "execution_count": null,
   "id": "5284b72d",
   "metadata": {},
   "outputs": [],
   "source": [
    "plt.plot(min_max_predictions) # Scaled predictions with min-max"
   ]
  },
  {
   "cell_type": "code",
   "execution_count": null,
   "id": "8f032e8c",
   "metadata": {},
   "outputs": [],
   "source": [
    "unscaled_min_max_predictions=scaler.inverse_transform(min_max_predictions)  # Unscaling for actual values\n",
    "\n",
    "plt.plot(unscaled_min_max_predictions)"
   ]
  },
  {
   "cell_type": "code",
   "execution_count": null,
   "id": "6cbfb502",
   "metadata": {},
   "outputs": [],
   "source": [
    "#test_data=test_data.values\n",
    "\n"
   ]
  },
  {
   "cell_type": "code",
   "execution_count": null,
   "id": "53cb0b39",
   "metadata": {},
   "outputs": [],
   "source": [
    "from sklearn.metrics import mean_squared_error\n",
    "\n",
    "min_max_mse=mean_squared_error(test_data, unscaled_min_max_predictions)"
   ]
  },
  {
   "cell_type": "code",
   "execution_count": null,
   "id": "7e05cd27",
   "metadata": {},
   "outputs": [],
   "source": []
  },
  {
   "cell_type": "code",
   "execution_count": null,
   "id": "d7dfe592",
   "metadata": {},
   "outputs": [],
   "source": []
  },
  {
   "cell_type": "markdown",
   "id": "4b4a1d87",
   "metadata": {},
   "source": [
    "## Add next steps here from first approach"
   ]
  },
  {
   "cell_type": "markdown",
   "id": "c245ca34",
   "metadata": {},
   "source": [
    "## Z-Score scaling"
   ]
  },
  {
   "cell_type": "code",
   "execution_count": null,
   "id": "ca66fb2e",
   "metadata": {},
   "outputs": [],
   "source": [
    "from sklearn import preprocessing    # For creating a standard scaler\n",
    "\n",
    "scaler=preprocessing.StandardScaler()  # Creating standard scaler"
   ]
  },
  {
   "cell_type": "code",
   "execution_count": null,
   "id": "ee67da49",
   "metadata": {},
   "outputs": [],
   "source": [
    "z_score_oil_prices=scaler.fit_transform(non_scaled_oil_prices.reshape(-1, 1))  # Performing z-score scaling on numpy array\n"
   ]
  },
  {
   "cell_type": "code",
   "execution_count": null,
   "id": "d8784ed9",
   "metadata": {},
   "outputs": [],
   "source": [
    "z_score_oil_prices.shape # len(z_score_oil_prices)"
   ]
  },
  {
   "cell_type": "code",
   "execution_count": null,
   "id": "f2633a23",
   "metadata": {},
   "outputs": [],
   "source": [
    "x_training_data=[]        # Initialising two data structures for the timesteps\n",
    "y_training_data=[] "
   ]
  },
  {
   "cell_type": "code",
   "execution_count": null,
   "id": "881d5efc",
   "metadata": {},
   "outputs": [],
   "source": [
    "for i in range(50, len(z_score_oil_prices)):               # Populating the data structures for the timesteps\n",
    "               x_training_data.append(z_score_oil_prices[i-50:i, 0])\n",
    "               y_training_data.append(z_score_oil_prices[i, 0])"
   ]
  },
  {
   "cell_type": "code",
   "execution_count": null,
   "id": "89e3d83c",
   "metadata": {},
   "outputs": [],
   "source": [
    "x_training_data=np.array(x_training_data)              # Converting to numpy arrays\n",
    "y_training_data=np.array(y_training_data)\n",
    "\n",
    "print(x_training_data.shape)"
   ]
  },
  {
   "cell_type": "code",
   "execution_count": null,
   "id": "8584c713",
   "metadata": {},
   "outputs": [],
   "source": [
    "print(y_training_data.shape)"
   ]
  },
  {
   "cell_type": "code",
   "execution_count": null,
   "id": "12090d65",
   "metadata": {},
   "outputs": [],
   "source": [
    "print(len(z_score_oil_prices)-50)  # Confirm arrays have correct shape, len(min_max_oil_prices) - 50 = 5770"
   ]
  },
  {
   "cell_type": "code",
   "execution_count": null,
   "id": "e3aebbd0",
   "metadata": {},
   "outputs": [],
   "source": [
    "x_training_data=np.reshape(x_training_data, (x_training_data.shape[0], x_training_data.shape[1], 1)) \n",
    "\n",
    "print(x_training_data.shape)    # Turning numpy array 3 dimensional for tensorflow"
   ]
  },
  {
   "cell_type": "code",
   "execution_count": null,
   "id": "00c38a58",
   "metadata": {},
   "outputs": [],
   "source": [
    "rnn=Sequential()  # Initialising RNN"
   ]
  },
  {
   "cell_type": "code",
   "execution_count": null,
   "id": "7473e8d5",
   "metadata": {},
   "outputs": [],
   "source": [
    "rnn.add(LSTM(units=5, return_sequences=True, input_shape=(x_training_data.shape[1], 1))) # Replicating same parameters as min-max scaling round"
   ]
  },
  {
   "cell_type": "code",
   "execution_count": null,
   "id": "e92338a2",
   "metadata": {},
   "outputs": [],
   "source": [
    "rnn.add(Dropout(0.2)) # Replicating same dropout rate as min-max scaling round"
   ]
  },
  {
   "cell_type": "code",
   "execution_count": null,
   "id": "d23d8d26",
   "metadata": {},
   "outputs": [],
   "source": [
    "for i in [True, False]:            \n",
    "    rnn.add(LSTM(units=5, return_sequences=i))\n",
    "    rnn.add(Dropout(0.2))                            # Replicating number of LSTM layers with min-max round"
   ]
  },
  {
   "cell_type": "code",
   "execution_count": null,
   "id": "017d79f5",
   "metadata": {},
   "outputs": [],
   "source": [
    "rnn.add(Dense(units=1))   # Identical output layer as min-max round"
   ]
  },
  {
   "cell_type": "code",
   "execution_count": null,
   "id": "a1478f79",
   "metadata": {},
   "outputs": [],
   "source": [
    "rnn.compile(optimizer='adam', loss='mean_squared_error') # Same optimizer and loss function as min-max round"
   ]
  },
  {
   "cell_type": "code",
   "execution_count": null,
   "id": "4322721b",
   "metadata": {},
   "outputs": [],
   "source": [
    "#rnn.fit(x_training_data, y_training_data, epochs=10, batch_size=10)  # Fitting model to z-score scaled training data"
   ]
  }
 ],
 "metadata": {
  "kernelspec": {
   "display_name": "Python 3 (ipykernel)",
   "language": "python",
   "name": "python3"
  },
  "language_info": {
   "codemirror_mode": {
    "name": "ipython",
    "version": 3
   },
   "file_extension": ".py",
   "mimetype": "text/x-python",
   "name": "python",
   "nbconvert_exporter": "python",
   "pygments_lexer": "ipython3",
   "version": "3.9.13"
  }
 },
 "nbformat": 4,
 "nbformat_minor": 5
}
