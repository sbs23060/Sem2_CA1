{
 "cells": [
  {
   "cell_type": "code",
   "execution_count": 2,
   "id": "1ea79466",
   "metadata": {},
   "outputs": [],
   "source": [
    "import numpy as np   # Downloading numpy for array format\n",
    "import pandas as pd  # Downloading pandas for data import\n",
    "import matplotlib.pyplot as plt # Matplotlib.pyplot for visualization\n",
    "%matplotlib inline "
   ]
  },
  {
   "cell_type": "code",
   "execution_count": 3,
   "id": "309cdd10",
   "metadata": {},
   "outputs": [
    {
     "data": {
      "text/html": [
       "<div>\n",
       "<style scoped>\n",
       "    .dataframe tbody tr th:only-of-type {\n",
       "        vertical-align: middle;\n",
       "    }\n",
       "\n",
       "    .dataframe tbody tr th {\n",
       "        vertical-align: top;\n",
       "    }\n",
       "\n",
       "    .dataframe thead th {\n",
       "        text-align: right;\n",
       "    }\n",
       "</style>\n",
       "<table border=\"1\" class=\"dataframe\">\n",
       "  <thead>\n",
       "    <tr style=\"text-align: right;\">\n",
       "      <th></th>\n",
       "      <th>LOCATION</th>\n",
       "      <th>INDICATOR</th>\n",
       "      <th>SUBJECT</th>\n",
       "      <th>MEASURE</th>\n",
       "      <th>FREQUENCY</th>\n",
       "      <th>TIME</th>\n",
       "      <th>Value</th>\n",
       "      <th>Flag Codes</th>\n",
       "    </tr>\n",
       "  </thead>\n",
       "  <tbody>\n",
       "    <tr>\n",
       "      <th>0</th>\n",
       "      <td>AUS</td>\n",
       "      <td>OILIMPPRICE</td>\n",
       "      <td>TOT</td>\n",
       "      <td>USD_BAR</td>\n",
       "      <td>A</td>\n",
       "      <td>1980</td>\n",
       "      <td>31.81</td>\n",
       "      <td>NaN</td>\n",
       "    </tr>\n",
       "    <tr>\n",
       "      <th>1</th>\n",
       "      <td>AUS</td>\n",
       "      <td>OILIMPPRICE</td>\n",
       "      <td>TOT</td>\n",
       "      <td>USD_BAR</td>\n",
       "      <td>A</td>\n",
       "      <td>1981</td>\n",
       "      <td>35.88</td>\n",
       "      <td>NaN</td>\n",
       "    </tr>\n",
       "    <tr>\n",
       "      <th>2</th>\n",
       "      <td>AUS</td>\n",
       "      <td>OILIMPPRICE</td>\n",
       "      <td>TOT</td>\n",
       "      <td>USD_BAR</td>\n",
       "      <td>A</td>\n",
       "      <td>1982</td>\n",
       "      <td>35.42</td>\n",
       "      <td>NaN</td>\n",
       "    </tr>\n",
       "    <tr>\n",
       "      <th>3</th>\n",
       "      <td>AUS</td>\n",
       "      <td>OILIMPPRICE</td>\n",
       "      <td>TOT</td>\n",
       "      <td>USD_BAR</td>\n",
       "      <td>A</td>\n",
       "      <td>1983</td>\n",
       "      <td>30.88</td>\n",
       "      <td>NaN</td>\n",
       "    </tr>\n",
       "    <tr>\n",
       "      <th>4</th>\n",
       "      <td>AUS</td>\n",
       "      <td>OILIMPPRICE</td>\n",
       "      <td>TOT</td>\n",
       "      <td>USD_BAR</td>\n",
       "      <td>A</td>\n",
       "      <td>1984</td>\n",
       "      <td>29.19</td>\n",
       "      <td>NaN</td>\n",
       "    </tr>\n",
       "    <tr>\n",
       "      <th>5</th>\n",
       "      <td>AUS</td>\n",
       "      <td>OILIMPPRICE</td>\n",
       "      <td>TOT</td>\n",
       "      <td>USD_BAR</td>\n",
       "      <td>A</td>\n",
       "      <td>1985</td>\n",
       "      <td>28.17</td>\n",
       "      <td>NaN</td>\n",
       "    </tr>\n",
       "    <tr>\n",
       "      <th>6</th>\n",
       "      <td>AUS</td>\n",
       "      <td>OILIMPPRICE</td>\n",
       "      <td>TOT</td>\n",
       "      <td>USD_BAR</td>\n",
       "      <td>A</td>\n",
       "      <td>1986</td>\n",
       "      <td>14.49</td>\n",
       "      <td>NaN</td>\n",
       "    </tr>\n",
       "    <tr>\n",
       "      <th>7</th>\n",
       "      <td>AUS</td>\n",
       "      <td>OILIMPPRICE</td>\n",
       "      <td>TOT</td>\n",
       "      <td>USD_BAR</td>\n",
       "      <td>A</td>\n",
       "      <td>1987</td>\n",
       "      <td>19.00</td>\n",
       "      <td>NaN</td>\n",
       "    </tr>\n",
       "    <tr>\n",
       "      <th>8</th>\n",
       "      <td>AUS</td>\n",
       "      <td>OILIMPPRICE</td>\n",
       "      <td>TOT</td>\n",
       "      <td>USD_BAR</td>\n",
       "      <td>A</td>\n",
       "      <td>1988</td>\n",
       "      <td>15.93</td>\n",
       "      <td>NaN</td>\n",
       "    </tr>\n",
       "    <tr>\n",
       "      <th>9</th>\n",
       "      <td>AUS</td>\n",
       "      <td>OILIMPPRICE</td>\n",
       "      <td>TOT</td>\n",
       "      <td>USD_BAR</td>\n",
       "      <td>A</td>\n",
       "      <td>1989</td>\n",
       "      <td>17.63</td>\n",
       "      <td>NaN</td>\n",
       "    </tr>\n",
       "  </tbody>\n",
       "</table>\n",
       "</div>"
      ],
      "text/plain": [
       "  LOCATION    INDICATOR SUBJECT  MEASURE FREQUENCY  TIME  Value Flag Codes\n",
       "0      AUS  OILIMPPRICE     TOT  USD_BAR         A  1980  31.81        NaN\n",
       "1      AUS  OILIMPPRICE     TOT  USD_BAR         A  1981  35.88        NaN\n",
       "2      AUS  OILIMPPRICE     TOT  USD_BAR         A  1982  35.42        NaN\n",
       "3      AUS  OILIMPPRICE     TOT  USD_BAR         A  1983  30.88        NaN\n",
       "4      AUS  OILIMPPRICE     TOT  USD_BAR         A  1984  29.19        NaN\n",
       "5      AUS  OILIMPPRICE     TOT  USD_BAR         A  1985  28.17        NaN\n",
       "6      AUS  OILIMPPRICE     TOT  USD_BAR         A  1986  14.49        NaN\n",
       "7      AUS  OILIMPPRICE     TOT  USD_BAR         A  1987  19.00        NaN\n",
       "8      AUS  OILIMPPRICE     TOT  USD_BAR         A  1988  15.93        NaN\n",
       "9      AUS  OILIMPPRICE     TOT  USD_BAR         A  1989  17.63        NaN"
      ]
     },
     "execution_count": 3,
     "metadata": {},
     "output_type": "execute_result"
    }
   ],
   "source": [
    "oil_prices=pd.read_csv('crude_oil_import_prices.csv') # importing the dataset\n",
    "\n",
    "oil_prices.head(10)"
   ]
  },
  {
   "cell_type": "code",
   "execution_count": 6,
   "id": "d2b04af2",
   "metadata": {},
   "outputs": [
    {
     "data": {
      "text/plain": [
       "(17360, 8)"
      ]
     },
     "execution_count": 6,
     "metadata": {},
     "output_type": "execute_result"
    }
   ],
   "source": [
    "oil_prices.shape # Getting shape  of data"
   ]
  },
  {
   "cell_type": "code",
   "execution_count": 9,
   "id": "0b436e5c",
   "metadata": {},
   "outputs": [
    {
     "name": "stdout",
     "output_type": "stream",
     "text": [
      "<class 'pandas.core.frame.DataFrame'>\n",
      "RangeIndex: 17360 entries, 0 to 17359\n",
      "Data columns (total 8 columns):\n",
      " #   Column      Non-Null Count  Dtype  \n",
      "---  ------      --------------  -----  \n",
      " 0   LOCATION    17360 non-null  object \n",
      " 1   INDICATOR   17360 non-null  object \n",
      " 2   SUBJECT     17360 non-null  object \n",
      " 3   MEASURE     17360 non-null  object \n",
      " 4   FREQUENCY   17360 non-null  object \n",
      " 5   TIME        17360 non-null  object \n",
      " 6   Value       9734 non-null   float64\n",
      " 7   Flag Codes  7626 non-null   object \n",
      "dtypes: float64(1), object(7)\n",
      "memory usage: 1.1+ MB\n"
     ]
    }
   ],
   "source": [
    "oil_prices.info()   # checking nulls and data types"
   ]
  },
  {
   "cell_type": "code",
   "execution_count": 10,
   "id": "2217f847",
   "metadata": {},
   "outputs": [
    {
     "data": {
      "text/plain": [
       "LOCATION       object\n",
       "INDICATOR      object\n",
       "SUBJECT        object\n",
       "MEASURE        object\n",
       "FREQUENCY      object\n",
       "TIME           object\n",
       "Value         float64\n",
       "Flag Codes     object\n",
       "dtype: object"
      ]
     },
     "execution_count": 10,
     "metadata": {},
     "output_type": "execute_result"
    }
   ],
   "source": [
    "oil_prices.dtypes"
   ]
  },
  {
   "cell_type": "code",
   "execution_count": 15,
   "id": "2ec44114",
   "metadata": {},
   "outputs": [
    {
     "data": {
      "text/html": [
       "<div>\n",
       "<style scoped>\n",
       "    .dataframe tbody tr th:only-of-type {\n",
       "        vertical-align: middle;\n",
       "    }\n",
       "\n",
       "    .dataframe tbody tr th {\n",
       "        vertical-align: top;\n",
       "    }\n",
       "\n",
       "    .dataframe thead th {\n",
       "        text-align: right;\n",
       "    }\n",
       "</style>\n",
       "<table border=\"1\" class=\"dataframe\">\n",
       "  <thead>\n",
       "    <tr style=\"text-align: right;\">\n",
       "      <th></th>\n",
       "      <th>LOCATION</th>\n",
       "      <th>FREQUENCY</th>\n",
       "      <th>TIME</th>\n",
       "      <th>Value</th>\n",
       "    </tr>\n",
       "  </thead>\n",
       "  <tbody>\n",
       "    <tr>\n",
       "      <th>0</th>\n",
       "      <td>AUS</td>\n",
       "      <td>A</td>\n",
       "      <td>1980</td>\n",
       "      <td>31.81</td>\n",
       "    </tr>\n",
       "    <tr>\n",
       "      <th>1</th>\n",
       "      <td>AUS</td>\n",
       "      <td>A</td>\n",
       "      <td>1981</td>\n",
       "      <td>35.88</td>\n",
       "    </tr>\n",
       "    <tr>\n",
       "      <th>2</th>\n",
       "      <td>AUS</td>\n",
       "      <td>A</td>\n",
       "      <td>1982</td>\n",
       "      <td>35.42</td>\n",
       "    </tr>\n",
       "    <tr>\n",
       "      <th>3</th>\n",
       "      <td>AUS</td>\n",
       "      <td>A</td>\n",
       "      <td>1983</td>\n",
       "      <td>30.88</td>\n",
       "    </tr>\n",
       "    <tr>\n",
       "      <th>4</th>\n",
       "      <td>AUS</td>\n",
       "      <td>A</td>\n",
       "      <td>1984</td>\n",
       "      <td>29.19</td>\n",
       "    </tr>\n",
       "  </tbody>\n",
       "</table>\n",
       "</div>"
      ],
      "text/plain": [
       "  LOCATION FREQUENCY  TIME  Value\n",
       "0      AUS         A  1980  31.81\n",
       "1      AUS         A  1981  35.88\n",
       "2      AUS         A  1982  35.42\n",
       "3      AUS         A  1983  30.88\n",
       "4      AUS         A  1984  29.19"
      ]
     },
     "execution_count": 15,
     "metadata": {},
     "output_type": "execute_result"
    }
   ],
   "source": [
    "oil_prices=oil_prices.drop(['INDICATOR', 'SUBJECT', 'MEASURE', 'Flag Codes'], axis=1)\n",
    "\n",
    "oil_prices.head(5)"
   ]
  },
  {
   "cell_type": "code",
   "execution_count": 16,
   "id": "c3888b34",
   "metadata": {},
   "outputs": [
    {
     "data": {
      "text/plain": [
       "LOCATION      object\n",
       "FREQUENCY     object\n",
       "TIME          object\n",
       "Value        float64\n",
       "dtype: object"
      ]
     },
     "execution_count": 16,
     "metadata": {},
     "output_type": "execute_result"
    }
   ],
   "source": [
    "oil_prices.dtypes"
   ]
  },
  {
   "cell_type": "code",
   "execution_count": 17,
   "id": "b9ddc0ad",
   "metadata": {},
   "outputs": [
    {
     "data": {
      "text/plain": [
       "(17360, 4)"
      ]
     },
     "execution_count": 17,
     "metadata": {},
     "output_type": "execute_result"
    }
   ],
   "source": [
    "oil_prices.shape"
   ]
  },
  {
   "cell_type": "code",
   "execution_count": 20,
   "id": "dd66385c",
   "metadata": {},
   "outputs": [
    {
     "data": {
      "text/html": [
       "<div>\n",
       "<style scoped>\n",
       "    .dataframe tbody tr th:only-of-type {\n",
       "        vertical-align: middle;\n",
       "    }\n",
       "\n",
       "    .dataframe tbody tr th {\n",
       "        vertical-align: top;\n",
       "    }\n",
       "\n",
       "    .dataframe thead th {\n",
       "        text-align: right;\n",
       "    }\n",
       "</style>\n",
       "<table border=\"1\" class=\"dataframe\">\n",
       "  <thead>\n",
       "    <tr style=\"text-align: right;\">\n",
       "      <th></th>\n",
       "      <th>Value</th>\n",
       "    </tr>\n",
       "  </thead>\n",
       "  <tbody>\n",
       "    <tr>\n",
       "      <th>count</th>\n",
       "      <td>9734.000000</td>\n",
       "    </tr>\n",
       "    <tr>\n",
       "      <th>mean</th>\n",
       "      <td>41.376256</td>\n",
       "    </tr>\n",
       "    <tr>\n",
       "      <th>std</th>\n",
       "      <td>31.575795</td>\n",
       "    </tr>\n",
       "    <tr>\n",
       "      <th>min</th>\n",
       "      <td>2.330000</td>\n",
       "    </tr>\n",
       "    <tr>\n",
       "      <th>25%</th>\n",
       "      <td>18.350000</td>\n",
       "    </tr>\n",
       "    <tr>\n",
       "      <th>50%</th>\n",
       "      <td>28.560000</td>\n",
       "    </tr>\n",
       "    <tr>\n",
       "      <th>75%</th>\n",
       "      <td>56.265000</td>\n",
       "    </tr>\n",
       "    <tr>\n",
       "      <th>max</th>\n",
       "      <td>142.290000</td>\n",
       "    </tr>\n",
       "  </tbody>\n",
       "</table>\n",
       "</div>"
      ],
      "text/plain": [
       "             Value\n",
       "count  9734.000000\n",
       "mean     41.376256\n",
       "std      31.575795\n",
       "min       2.330000\n",
       "25%      18.350000\n",
       "50%      28.560000\n",
       "75%      56.265000\n",
       "max     142.290000"
      ]
     },
     "execution_count": 20,
     "metadata": {},
     "output_type": "execute_result"
    }
   ],
   "source": [
    "oil_prices.describe()     # Basic statistical info - seems to skew to the left"
   ]
  },
  {
   "cell_type": "code",
   "execution_count": 23,
   "id": "cfb4b3d9",
   "metadata": {},
   "outputs": [
    {
     "data": {
      "text/html": [
       "<div>\n",
       "<style scoped>\n",
       "    .dataframe tbody tr th:only-of-type {\n",
       "        vertical-align: middle;\n",
       "    }\n",
       "\n",
       "    .dataframe tbody tr th {\n",
       "        vertical-align: top;\n",
       "    }\n",
       "\n",
       "    .dataframe thead th {\n",
       "        text-align: right;\n",
       "    }\n",
       "</style>\n",
       "<table border=\"1\" class=\"dataframe\">\n",
       "  <thead>\n",
       "    <tr style=\"text-align: right;\">\n",
       "      <th></th>\n",
       "      <th>LOCATION</th>\n",
       "      <th>FREQUENCY</th>\n",
       "      <th>TIME</th>\n",
       "      <th>Value</th>\n",
       "    </tr>\n",
       "  </thead>\n",
       "  <tbody>\n",
       "    <tr>\n",
       "      <th>4293</th>\n",
       "      <td>CHE</td>\n",
       "      <td>Q</td>\n",
       "      <td>2016-Q2</td>\n",
       "      <td>NaN</td>\n",
       "    </tr>\n",
       "    <tr>\n",
       "      <th>1519</th>\n",
       "      <td>CAN</td>\n",
       "      <td>Q</td>\n",
       "      <td>2016-Q2</td>\n",
       "      <td>44.27</td>\n",
       "    </tr>\n",
       "    <tr>\n",
       "      <th>1665</th>\n",
       "      <td>CZE</td>\n",
       "      <td>Q</td>\n",
       "      <td>2016-Q2</td>\n",
       "      <td>NaN</td>\n",
       "    </tr>\n",
       "    <tr>\n",
       "      <th>3125</th>\n",
       "      <td>NLD</td>\n",
       "      <td>Q</td>\n",
       "      <td>2016-Q2</td>\n",
       "      <td>43.29</td>\n",
       "    </tr>\n",
       "    <tr>\n",
       "      <th>3709</th>\n",
       "      <td>PRT</td>\n",
       "      <td>Q</td>\n",
       "      <td>2016-Q2</td>\n",
       "      <td>NaN</td>\n",
       "    </tr>\n",
       "  </tbody>\n",
       "</table>\n",
       "</div>"
      ],
      "text/plain": [
       "     LOCATION FREQUENCY     TIME  Value\n",
       "4293      CHE         Q  2016-Q2    NaN\n",
       "1519      CAN         Q  2016-Q2  44.27\n",
       "1665      CZE         Q  2016-Q2    NaN\n",
       "3125      NLD         Q  2016-Q2  43.29\n",
       "3709      PRT         Q  2016-Q2    NaN"
      ]
     },
     "execution_count": 23,
     "metadata": {},
     "output_type": "execute_result"
    }
   ],
   "source": [
    "oil_prices=oil_prices.sort_values(by='TIME') # sort the data by year\n",
    "\n",
    "oil_prices.head(10)\n",
    "oil_prices.tail(5)"
   ]
  },
  {
   "cell_type": "code",
   "execution_count": 27,
   "id": "189fe8db",
   "metadata": {},
   "outputs": [
    {
     "data": {
      "text/html": [
       "<div>\n",
       "<style scoped>\n",
       "    .dataframe tbody tr th:only-of-type {\n",
       "        vertical-align: middle;\n",
       "    }\n",
       "\n",
       "    .dataframe tbody tr th {\n",
       "        vertical-align: top;\n",
       "    }\n",
       "\n",
       "    .dataframe thead th {\n",
       "        text-align: right;\n",
       "    }\n",
       "</style>\n",
       "<table border=\"1\" class=\"dataframe\">\n",
       "  <thead>\n",
       "    <tr style=\"text-align: right;\">\n",
       "      <th></th>\n",
       "      <th>LOCATION</th>\n",
       "      <th>FREQUENCY</th>\n",
       "      <th>TIME</th>\n",
       "      <th>Value</th>\n",
       "    </tr>\n",
       "  </thead>\n",
       "  <tbody>\n",
       "    <tr>\n",
       "      <th>4293</th>\n",
       "      <td>CHE</td>\n",
       "      <td>Q</td>\n",
       "      <td>2016</td>\n",
       "      <td>NaN</td>\n",
       "    </tr>\n",
       "    <tr>\n",
       "      <th>1519</th>\n",
       "      <td>CAN</td>\n",
       "      <td>Q</td>\n",
       "      <td>2016</td>\n",
       "      <td>44.27</td>\n",
       "    </tr>\n",
       "    <tr>\n",
       "      <th>1665</th>\n",
       "      <td>CZE</td>\n",
       "      <td>Q</td>\n",
       "      <td>2016</td>\n",
       "      <td>NaN</td>\n",
       "    </tr>\n",
       "    <tr>\n",
       "      <th>3125</th>\n",
       "      <td>NLD</td>\n",
       "      <td>Q</td>\n",
       "      <td>2016</td>\n",
       "      <td>43.29</td>\n",
       "    </tr>\n",
       "    <tr>\n",
       "      <th>3709</th>\n",
       "      <td>PRT</td>\n",
       "      <td>Q</td>\n",
       "      <td>2016</td>\n",
       "      <td>NaN</td>\n",
       "    </tr>\n",
       "  </tbody>\n",
       "</table>\n",
       "</div>"
      ],
      "text/plain": [
       "     LOCATION FREQUENCY  TIME  Value\n",
       "4293      CHE         Q  2016    NaN\n",
       "1519      CAN         Q  2016  44.27\n",
       "1665      CZE         Q  2016    NaN\n",
       "3125      NLD         Q  2016  43.29\n",
       "3709      PRT         Q  2016    NaN"
      ]
     },
     "execution_count": 27,
     "metadata": {},
     "output_type": "execute_result"
    }
   ],
   "source": [
    "oil_prices['TIME']=oil_prices['TIME'].str.slice(0, 4) # Removed extra characters from time column\n",
    "\n",
    "oil_prices.tail(5)\n"
   ]
  },
  {
   "cell_type": "code",
   "execution_count": null,
   "id": "cc2a9728",
   "metadata": {},
   "outputs": [],
   "source": []
  }
 ],
 "metadata": {
  "kernelspec": {
   "display_name": "Python 3 (ipykernel)",
   "language": "python",
   "name": "python3"
  },
  "language_info": {
   "codemirror_mode": {
    "name": "ipython",
    "version": 3
   },
   "file_extension": ".py",
   "mimetype": "text/x-python",
   "name": "python",
   "nbconvert_exporter": "python",
   "pygments_lexer": "ipython3",
   "version": "3.9.13"
  }
 },
 "nbformat": 4,
 "nbformat_minor": 5
}
